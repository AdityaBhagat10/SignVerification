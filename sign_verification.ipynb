{
 "cells": [
  {
   "cell_type": "code",
   "execution_count": null,
   "metadata": {},
   "outputs": [],
   "source": [
    "import numpy as np\n",
    "import matplotlib.pyplot as plt\n",
    "import seaborn as sns\n",
    "import  cv2\n",
    "import os\n",
    "from sklearn.model_selection import train_test_split\n",
    "from sklearn.svm import SVC\n",
    "from sklearn.ensemble import RandomForestClassifier\n",
    "from sklearn.metrics import accuracy_score, classification_report\n",
    "from skimage.feature import hog, local_binary_pattern\n",
    "from sklearn.preprocessing import StandardScaler\n",
    "from natsort import natsorted\n"
   ]
  },
  {
   "cell_type": "code",
   "execution_count": null,
   "metadata": {},
   "outputs": [],
   "source": [
    "genuine_path = r'archive(1)\\signatures\\full_org'\n",
    "forged_path = r'archive(1)\\signatures\\full_forg'\n"
   ]
  },
  {
   "cell_type": "code",
   "execution_count": 89,
   "metadata": {},
   "outputs": [],
   "source": [
    "\n",
    "def extract_features(img):\n",
    "    img = cv2.resize(img, (256, 128))\n",
    "    _, binary_img = cv2.threshold(img, 0, 255, cv2.THRESH_BINARY + cv2.THRESH_OTSU)\n",
    "    if np.sum(binary_img) < (binary_img.size * 255 / 2):\n",
    "        binary_img = cv2.bitwise_not(binary_img)\n",
    "    hog_features = hog(img, \n",
    "                      pixels_per_cell=(16, 16),\n",
    "                      cells_per_block=(2, 2),\n",
    "                      feature_vector=True)\n",
    "    \n",
    "    # 2. LBP Features (from grayscale image)\n",
    "    lbp = local_binary_pattern(binary_img, P=24, R=3, method=\"uniform\")\n",
    "    lbp_hist, _ = np.histogram(lbp.ravel(), bins=np.arange(0, 27), range=(0, 26))\n",
    "    lbp_hist = lbp_hist.astype(\"float\") / (lbp_hist.sum() + 1e-7)  # Add epsilon to avoid division by zero\n",
    "    \n",
    "    # 3. Hu Moments (from binary image)\n",
    "    moments = cv2.moments(binary_img)\n",
    "    hu_moments = cv2.HuMoments(moments).flatten()\n",
    "    \n",
    "    # Log-scale normalization for Hu Moments\n",
    "    hu_moments = np.sign(hu_moments) * np.log10(np.abs(hu_moments) + 1e-7)\n",
    "    \n",
    "    # Combine all features\n",
    "    features = np.hstack([hog_features, lbp_hist, hu_moments])\n",
    "    \n",
    "    return features\n"
   ]
  },
  {
   "cell_type": "code",
   "execution_count": null,
   "metadata": {},
   "outputs": [],
   "source": [
    "\n",
    "def load_images(folder, label):\n",
    "    X_train = []\n",
    "    X_test = []\n",
    "    y_train = []\n",
    "    y_test = []\n",
    "    file_list = [f for f in os.listdir(folder) if os.path.isfile(os.path.join(folder, f))]\n",
    "    data_size = len(file_list)\n",
    "    train_size = int(0.8 * data_size)\n",
    "    file_list = natsorted(file_list)  # Sort files naturally\n",
    "    \n",
    "    for i, filename in enumerate(file_list):\n",
    "        img_path = os.path.join(folder, filename)\n",
    "        img = cv2.imread(img_path, cv2.IMREAD_GRAYSCALE)\n",
    "        if img is not None:\n",
    "            features = extract_features(img)\n",
    "            if i < train_size:\n",
    "                X_train.append(features)\n",
    "                y_train.append(label)\n",
    "            else:\n",
    "                X_test.append(features)\n",
    "                y_test.append(label)\n",
    "    return np.array(X_train), np.array(X_test), np.array(y_train), np.array(y_test)\n"
   ]
  },
  {
   "cell_type": "code",
   "execution_count": 92,
   "metadata": {},
   "outputs": [],
   "source": [
    "real_X_train,real_X_test,real_y_train,real_y_test=load_images(genuine_path,label=0)\n",
    "forged_X_train,forged_X_test,forged_y_train,forged_y_test=load_images(forged_path,label=1)\n"
   ]
  },
  {
   "cell_type": "code",
   "execution_count": 93,
   "metadata": {},
   "outputs": [],
   "source": [
    "X_train=np.concatenate((real_X_train,forged_X_train), axis=0)\n",
    "X_test=np.concatenate((real_X_test,forged_X_test), axis=0)\n",
    "y_train=np.concatenate((real_y_train,forged_y_train), axis=0)\n",
    "y_test=np.concatenate((real_y_test,forged_y_test), axis=0)\n"
   ]
  },
  {
   "cell_type": "code",
   "execution_count": 94,
   "metadata": {},
   "outputs": [],
   "source": [
    "train_data = np.concatenate((X_train, y_train.reshape(-1, 1)), axis=1)\n",
    "test_data = np.concatenate((X_test, y_test.reshape(-1, 1)), axis=1)\n"
   ]
  },
  {
   "cell_type": "code",
   "execution_count": 95,
   "metadata": {},
   "outputs": [],
   "source": [
    "np.random.shuffle(train_data)  # Shuffles in-place\n",
    "np.random.shuffle(test_data)"
   ]
  },
  {
   "cell_type": "code",
   "execution_count": 96,
   "metadata": {},
   "outputs": [],
   "source": [
    "\n",
    "X_train_shuffled = train_data[:, :-1]\n",
    "y_train_shuffled = train_data[:, -1]\n",
    "\n",
    "X_test_shuffled = test_data[:, :-1]\n",
    "y_test_shuffled = test_data[:, -1]\n"
   ]
  },
  {
   "cell_type": "code",
   "execution_count": 97,
   "metadata": {},
   "outputs": [],
   "source": [
    "scaler = StandardScaler()\n",
    "X_train_shuffled = scaler.fit_transform(X_train_shuffled)\n",
    "X_test_shuffled = scaler.transform(X_test_shuffled)\n"
   ]
  },
  {
   "cell_type": "code",
   "execution_count": 98,
   "metadata": {},
   "outputs": [],
   "source": [
    "\n",
    "svm = SVC(kernel='linear', C=100.0)\n",
    "svm.fit(X_train_shuffled, y_train_shuffled)\n",
    "y_pred_svm = svm.predict(X_test_shuffled)\n"
   ]
  },
  {
   "cell_type": "code",
   "execution_count": 99,
   "metadata": {},
   "outputs": [
    {
     "name": "stdout",
     "output_type": "stream",
     "text": [
      "SVM Accuracy: 0.9754716981132076\n"
     ]
    }
   ],
   "source": [
    "print(\"SVM Accuracy:\", accuracy_score(y_test_shuffled, y_pred_svm))"
   ]
  },
  {
   "cell_type": "code",
   "execution_count": 100,
   "metadata": {},
   "outputs": [],
   "source": [
    "rf = RandomForestClassifier(n_estimators=100, random_state=55)\n",
    "rf.fit(X_train_shuffled, y_train_shuffled)\n",
    "y_pred_rf = rf.predict(X_test_shuffled)"
   ]
  },
  {
   "cell_type": "code",
   "execution_count": 101,
   "metadata": {},
   "outputs": [
    {
     "name": "stdout",
     "output_type": "stream",
     "text": [
      "Random Forest Accuracy: 0.969811320754717\n"
     ]
    }
   ],
   "source": [
    "print(\"Random Forest Accuracy:\", accuracy_score(y_test_shuffled, y_pred_rf))"
   ]
  },
  {
   "cell_type": "code",
   "execution_count": null,
   "metadata": {},
   "outputs": [],
   "source": []
  }
 ],
 "metadata": {
  "kernelspec": {
   "display_name": "Python 3",
   "language": "python",
   "name": "python3"
  },
  "language_info": {
   "codemirror_mode": {
    "name": "ipython",
    "version": 3
   },
   "file_extension": ".py",
   "mimetype": "text/x-python",
   "name": "python",
   "nbconvert_exporter": "python",
   "pygments_lexer": "ipython3",
   "version": "3.13.2"
  }
 },
 "nbformat": 4,
 "nbformat_minor": 2
}
